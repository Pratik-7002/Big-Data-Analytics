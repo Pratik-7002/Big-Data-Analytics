{
  "nbformat": 4,
  "nbformat_minor": 0,
  "metadata": {
    "colab": {
      "provenance": []
    },
    "kernelspec": {
      "name": "python3",
      "display_name": "Python 3"
    },
    "language_info": {
      "name": "python"
    }
  },
  "cells": [
    {
      "cell_type": "code",
      "execution_count": null,
      "metadata": {
        "colab": {
          "base_uri": "https://localhost:8080/"
        },
        "id": "9h14RZYWhc-W",
        "outputId": "f0e15b03-9e4c-4c9a-ddf9-cd7a2590e74d"
      },
      "outputs": [
        {
          "output_type": "stream",
          "name": "stdout",
          "text": [
            "            Year         Month    DayofMonth     DayOfWeek       DepTime  \\\n",
            "count  7129270.0  7.129270e+06  7.129270e+06  7.129270e+06  7.001513e+06   \n",
            "mean      2004.0  6.549743e+00  1.576378e+01  3.943603e+00  1.346557e+03   \n",
            "std          0.0  3.437392e+00  8.801830e+00  1.986255e+00  4.736455e+02   \n",
            "min       2004.0  1.000000e+00  1.000000e+00  1.000000e+00  1.000000e+00   \n",
            "25%       2004.0  4.000000e+00  8.000000e+00  2.000000e+00  9.360000e+02   \n",
            "50%       2004.0  7.000000e+00  1.600000e+01  4.000000e+00  1.331000e+03   \n",
            "75%       2004.0  1.000000e+01  2.300000e+01  6.000000e+00  1.735000e+03   \n",
            "max       2004.0  1.200000e+01  3.100000e+01  7.000000e+00  2.750000e+03   \n",
            "\n",
            "         CRSDepTime       ArrTime    CRSArrTime     FlightNum  \\\n",
            "count  7.129270e+06  6.987729e+06  7.129270e+06  7.129270e+06   \n",
            "mean   1.340792e+03  1.496638e+03  1.503662e+03  2.091414e+03   \n",
            "std    4.623599e+02  4.950194e+02  4.768856e+02  1.955000e+03   \n",
            "min    0.000000e+00  1.000000e+00  0.000000e+00  1.000000e+00   \n",
            "25%    9.350000e+02  1.119000e+03  1.125000e+03  5.920000e+02   \n",
            "50%    1.330000e+03  1.521000e+03  1.525000e+03  1.413000e+03   \n",
            "75%    1.725000e+03  1.915000e+03  1.912000e+03  3.202000e+03   \n",
            "max    2.359000e+03  2.955000e+03  2.400000e+03  9.912000e+03   \n",
            "\n",
            "       ActualElapsedTime  ...      Distance        TaxiIn       TaxiOut  \\\n",
            "count       6.987729e+06  ...  7.129270e+06  7.129270e+06  7.129270e+06   \n",
            "mean        1.233826e+02  ...  7.136000e+02  7.846626e+00  1.572268e+01   \n",
            "std         7.062332e+01  ...  5.718568e+02  4.662986e+01  1.529575e+01   \n",
            "min        -7.100000e+02  ...  6.000000e+00  0.000000e+00  0.000000e+00   \n",
            "25%         7.200000e+01  ...  3.060000e+02  4.000000e+00  1.000000e+01   \n",
            "50%         1.040000e+02  ...  5.450000e+02  5.000000e+00  1.300000e+01   \n",
            "75%         1.540000e+02  ...  9.380000e+02  7.000000e+00  1.900000e+01   \n",
            "max         1.744000e+03  ...  4.962000e+03  1.473000e+03  3.905000e+03   \n",
            "\n",
            "          Cancelled      Diverted  CarrierDelay  WeatherDelay      NASDelay  \\\n",
            "count  7.129270e+06  7.129270e+06  7.129270e+06  7.129270e+06  7.129270e+06   \n",
            "mean   1.792007e-02  1.933438e-03  2.641655e+00  7.065885e-01  3.432659e+00   \n",
            "std    1.326610e-01  4.392835e-02  1.635026e+01  8.630164e+00  1.480823e+01   \n",
            "min    0.000000e+00  0.000000e+00  0.000000e+00  0.000000e+00 -2.500000e+01   \n",
            "25%    0.000000e+00  0.000000e+00  0.000000e+00  0.000000e+00  0.000000e+00   \n",
            "50%    0.000000e+00  0.000000e+00  0.000000e+00  0.000000e+00  0.000000e+00   \n",
            "75%    0.000000e+00  0.000000e+00  0.000000e+00  0.000000e+00  0.000000e+00   \n",
            "max    1.000000e+00  1.000000e+00  1.879000e+03  1.230000e+03  1.380000e+03   \n",
            "\n",
            "       SecurityDelay  LateAircraftDelay  \n",
            "count   7.129270e+06       7.129270e+06  \n",
            "mean    2.513848e-02       3.445825e+00  \n",
            "std     1.245168e+00       1.683761e+01  \n",
            "min     0.000000e+00       0.000000e+00  \n",
            "25%     0.000000e+00       0.000000e+00  \n",
            "50%     0.000000e+00       0.000000e+00  \n",
            "75%     0.000000e+00       0.000000e+00  \n",
            "max     5.330000e+02       1.344000e+03  \n",
            "\n",
            "[8 rows x 24 columns]\n"
          ]
        }
      ],
      "source": [
        "import pandas as pd\n",
        "df = pd.read_csv('/content/sample_data/2004.csv')\n",
        "df.head(10)\n",
        "summary = df.describe()\n",
        "print(summary)"
      ]
    },
    {
      "cell_type": "code",
      "source": [
        "df.info()"
      ],
      "metadata": {
        "colab": {
          "base_uri": "https://localhost:8080/"
        },
        "id": "3QpJyDRblurf",
        "outputId": "6f23eb92-218a-4e0c-a58f-427b5fadac31"
      },
      "execution_count": null,
      "outputs": [
        {
          "output_type": "stream",
          "name": "stdout",
          "text": [
            "<class 'pandas.core.frame.DataFrame'>\n",
            "RangeIndex: 7129270 entries, 0 to 7129269\n",
            "Data columns (total 29 columns):\n",
            " #   Column             Dtype  \n",
            "---  ------             -----  \n",
            " 0   Year               int64  \n",
            " 1   Month              int64  \n",
            " 2   DayofMonth         int64  \n",
            " 3   DayOfWeek          int64  \n",
            " 4   DepTime            float64\n",
            " 5   CRSDepTime         int64  \n",
            " 6   ArrTime            float64\n",
            " 7   CRSArrTime         int64  \n",
            " 8   UniqueCarrier      object \n",
            " 9   FlightNum          int64  \n",
            " 10  TailNum            object \n",
            " 11  ActualElapsedTime  float64\n",
            " 12  CRSElapsedTime     int64  \n",
            " 13  AirTime            float64\n",
            " 14  ArrDelay           float64\n",
            " 15  DepDelay           float64\n",
            " 16  Origin             object \n",
            " 17  Dest               object \n",
            " 18  Distance           int64  \n",
            " 19  TaxiIn             int64  \n",
            " 20  TaxiOut            int64  \n",
            " 21  Cancelled          int64  \n",
            " 22  CancellationCode   object \n",
            " 23  Diverted           int64  \n",
            " 24  CarrierDelay       int64  \n",
            " 25  WeatherDelay       int64  \n",
            " 26  NASDelay           int64  \n",
            " 27  SecurityDelay      int64  \n",
            " 28  LateAircraftDelay  int64  \n",
            "dtypes: float64(6), int64(18), object(5)\n",
            "memory usage: 1.5+ GB\n"
          ]
        }
      ]
    },
    {
      "cell_type": "code",
      "source": [
        "null_counts = df.isnull().sum()\n",
        "print(null_counts)\n"
      ],
      "metadata": {
        "colab": {
          "base_uri": "https://localhost:8080/"
        },
        "id": "8qzDuTjGl9xa",
        "outputId": "0e0b48e5-c033-4dea-dac4-749bcd40baa3"
      },
      "execution_count": null,
      "outputs": [
        {
          "output_type": "stream",
          "name": "stdout",
          "text": [
            "Year                       0\n",
            "Month                      0\n",
            "DayofMonth                 0\n",
            "DayOfWeek                  0\n",
            "DepTime               127757\n",
            "CRSDepTime                 0\n",
            "ArrTime               141541\n",
            "CRSArrTime                 0\n",
            "UniqueCarrier              0\n",
            "FlightNum                  0\n",
            "TailNum                  127\n",
            "ActualElapsedTime     141541\n",
            "CRSElapsedTime             0\n",
            "AirTime               141541\n",
            "ArrDelay              141541\n",
            "DepDelay              127757\n",
            "Origin                     0\n",
            "Dest                       0\n",
            "Distance                   0\n",
            "TaxiIn                     0\n",
            "TaxiOut                    0\n",
            "Cancelled                  0\n",
            "CancellationCode     7001506\n",
            "Diverted                   0\n",
            "CarrierDelay               0\n",
            "WeatherDelay               0\n",
            "NASDelay                   0\n",
            "SecurityDelay              0\n",
            "LateAircraftDelay          0\n",
            "dtype: int64\n"
          ]
        }
      ]
    },
    {
      "cell_type": "code",
      "source": [
        "columns_with_null = df.columns[df.isnull().any()]\n",
        "\n",
        "\n",
        "for column in columns_with_null:\n",
        "    df[column] = pd.to_numeric(df[column], errors='coerce').fillna(0)\n",
        "\n",
        "\n",
        "    mean_value = df[column].mean()\n",
        "    df[column].fillna(mean_value, inplace=True)\n",
        "updated_file_path = 'updated_dataset.csv'\n",
        "df.to_csv(updated_file_path, index=False)\n",
        "\n",
        "print(f'Null values replaced with means. Updated dataset saved to {updated_file_path}')"
      ],
      "metadata": {
        "colab": {
          "base_uri": "https://localhost:8080/"
        },
        "id": "OD-wkNubnMWz",
        "outputId": "77f1c0ba-09fa-4aeb-f70c-0de541b764f1"
      },
      "execution_count": null,
      "outputs": [
        {
          "output_type": "stream",
          "name": "stdout",
          "text": [
            "Null values replaced with means. Updated dataset saved to updated_dataset.csv\n"
          ]
        }
      ]
    },
    {
      "cell_type": "code",
      "source": [
        "df2 = pd.read_csv('/content/updated_dataset.csv')\n",
        "df2.head(10)"
      ],
      "metadata": {
        "colab": {
          "base_uri": "https://localhost:8080/",
          "height": 412
        },
        "id": "uPjV2cV3qP1J",
        "outputId": "b1ed8a3f-4dc8-4bc3-cbf5-32684a242d72"
      },
      "execution_count": null,
      "outputs": [
        {
          "output_type": "execute_result",
          "data": {
            "text/plain": [
              "   Year  Month  DayofMonth  DayOfWeek  DepTime  CRSDepTime  ArrTime  \\\n",
              "0  2004      1          12          1    623.0         630    901.0   \n",
              "1  2004      1          13          2    621.0         630    911.0   \n",
              "2  2004      1          14          3    633.0         630    920.0   \n",
              "3  2004      1          15          4    627.0         630    859.0   \n",
              "4  2004      1          16          5    635.0         630    918.0   \n",
              "5  2004      1          17          6    628.0         630    905.0   \n",
              "6  2004      1          19          1    650.0         630    944.0   \n",
              "7  2004      1          20          2    627.0         630    904.0   \n",
              "8  2004      1          21          3    623.0         630    903.0   \n",
              "9  2004      1          22          4    626.0         630    901.0   \n",
              "\n",
              "   CRSArrTime UniqueCarrier  FlightNum  ...  TaxiIn  TaxiOut  Cancelled  \\\n",
              "0         915            UA        462  ...       7       11          0   \n",
              "1         915            UA        462  ...      16       16          0   \n",
              "2         915            UA        462  ...       4       15          0   \n",
              "3         915            UA        462  ...       4       10          0   \n",
              "4         915            UA        462  ...       3       13          0   \n",
              "5         915            UA        462  ...       5       11          0   \n",
              "6         915            UA        462  ...       3       11          0   \n",
              "7         915            UA        462  ...       3       10          0   \n",
              "8         915            UA        462  ...      16        8          0   \n",
              "9         915            UA        462  ...       4       14          0   \n",
              "\n",
              "   CancellationCode  Diverted  CarrierDelay WeatherDelay NASDelay  \\\n",
              "0               0.0         0             0            0        0   \n",
              "1               0.0         0             0            0        0   \n",
              "2               0.0         0             0            0        0   \n",
              "3               0.0         0             0            0        0   \n",
              "4               0.0         0             0            0        0   \n",
              "5               0.0         0             0            0        0   \n",
              "6               0.0         0            20            0        9   \n",
              "7               0.0         0             0            0        0   \n",
              "8               0.0         0             0            0        0   \n",
              "9               0.0         0             0            0        0   \n",
              "\n",
              "   SecurityDelay  LateAircraftDelay  \n",
              "0              0                  0  \n",
              "1              0                  0  \n",
              "2              0                  0  \n",
              "3              0                  0  \n",
              "4              0                  0  \n",
              "5              0                  0  \n",
              "6              0                  0  \n",
              "7              0                  0  \n",
              "8              0                  0  \n",
              "9              0                  0  \n",
              "\n",
              "[10 rows x 29 columns]"
            ],
            "text/html": [
              "\n",
              "  <div id=\"df-fdb5e48a-8be2-4339-b385-1740d822b6ae\" class=\"colab-df-container\">\n",
              "    <div>\n",
              "<style scoped>\n",
              "    .dataframe tbody tr th:only-of-type {\n",
              "        vertical-align: middle;\n",
              "    }\n",
              "\n",
              "    .dataframe tbody tr th {\n",
              "        vertical-align: top;\n",
              "    }\n",
              "\n",
              "    .dataframe thead th {\n",
              "        text-align: right;\n",
              "    }\n",
              "</style>\n",
              "<table border=\"1\" class=\"dataframe\">\n",
              "  <thead>\n",
              "    <tr style=\"text-align: right;\">\n",
              "      <th></th>\n",
              "      <th>Year</th>\n",
              "      <th>Month</th>\n",
              "      <th>DayofMonth</th>\n",
              "      <th>DayOfWeek</th>\n",
              "      <th>DepTime</th>\n",
              "      <th>CRSDepTime</th>\n",
              "      <th>ArrTime</th>\n",
              "      <th>CRSArrTime</th>\n",
              "      <th>UniqueCarrier</th>\n",
              "      <th>FlightNum</th>\n",
              "      <th>...</th>\n",
              "      <th>TaxiIn</th>\n",
              "      <th>TaxiOut</th>\n",
              "      <th>Cancelled</th>\n",
              "      <th>CancellationCode</th>\n",
              "      <th>Diverted</th>\n",
              "      <th>CarrierDelay</th>\n",
              "      <th>WeatherDelay</th>\n",
              "      <th>NASDelay</th>\n",
              "      <th>SecurityDelay</th>\n",
              "      <th>LateAircraftDelay</th>\n",
              "    </tr>\n",
              "  </thead>\n",
              "  <tbody>\n",
              "    <tr>\n",
              "      <th>0</th>\n",
              "      <td>2004</td>\n",
              "      <td>1</td>\n",
              "      <td>12</td>\n",
              "      <td>1</td>\n",
              "      <td>623.0</td>\n",
              "      <td>630</td>\n",
              "      <td>901.0</td>\n",
              "      <td>915</td>\n",
              "      <td>UA</td>\n",
              "      <td>462</td>\n",
              "      <td>...</td>\n",
              "      <td>7</td>\n",
              "      <td>11</td>\n",
              "      <td>0</td>\n",
              "      <td>0.0</td>\n",
              "      <td>0</td>\n",
              "      <td>0</td>\n",
              "      <td>0</td>\n",
              "      <td>0</td>\n",
              "      <td>0</td>\n",
              "      <td>0</td>\n",
              "    </tr>\n",
              "    <tr>\n",
              "      <th>1</th>\n",
              "      <td>2004</td>\n",
              "      <td>1</td>\n",
              "      <td>13</td>\n",
              "      <td>2</td>\n",
              "      <td>621.0</td>\n",
              "      <td>630</td>\n",
              "      <td>911.0</td>\n",
              "      <td>915</td>\n",
              "      <td>UA</td>\n",
              "      <td>462</td>\n",
              "      <td>...</td>\n",
              "      <td>16</td>\n",
              "      <td>16</td>\n",
              "      <td>0</td>\n",
              "      <td>0.0</td>\n",
              "      <td>0</td>\n",
              "      <td>0</td>\n",
              "      <td>0</td>\n",
              "      <td>0</td>\n",
              "      <td>0</td>\n",
              "      <td>0</td>\n",
              "    </tr>\n",
              "    <tr>\n",
              "      <th>2</th>\n",
              "      <td>2004</td>\n",
              "      <td>1</td>\n",
              "      <td>14</td>\n",
              "      <td>3</td>\n",
              "      <td>633.0</td>\n",
              "      <td>630</td>\n",
              "      <td>920.0</td>\n",
              "      <td>915</td>\n",
              "      <td>UA</td>\n",
              "      <td>462</td>\n",
              "      <td>...</td>\n",
              "      <td>4</td>\n",
              "      <td>15</td>\n",
              "      <td>0</td>\n",
              "      <td>0.0</td>\n",
              "      <td>0</td>\n",
              "      <td>0</td>\n",
              "      <td>0</td>\n",
              "      <td>0</td>\n",
              "      <td>0</td>\n",
              "      <td>0</td>\n",
              "    </tr>\n",
              "    <tr>\n",
              "      <th>3</th>\n",
              "      <td>2004</td>\n",
              "      <td>1</td>\n",
              "      <td>15</td>\n",
              "      <td>4</td>\n",
              "      <td>627.0</td>\n",
              "      <td>630</td>\n",
              "      <td>859.0</td>\n",
              "      <td>915</td>\n",
              "      <td>UA</td>\n",
              "      <td>462</td>\n",
              "      <td>...</td>\n",
              "      <td>4</td>\n",
              "      <td>10</td>\n",
              "      <td>0</td>\n",
              "      <td>0.0</td>\n",
              "      <td>0</td>\n",
              "      <td>0</td>\n",
              "      <td>0</td>\n",
              "      <td>0</td>\n",
              "      <td>0</td>\n",
              "      <td>0</td>\n",
              "    </tr>\n",
              "    <tr>\n",
              "      <th>4</th>\n",
              "      <td>2004</td>\n",
              "      <td>1</td>\n",
              "      <td>16</td>\n",
              "      <td>5</td>\n",
              "      <td>635.0</td>\n",
              "      <td>630</td>\n",
              "      <td>918.0</td>\n",
              "      <td>915</td>\n",
              "      <td>UA</td>\n",
              "      <td>462</td>\n",
              "      <td>...</td>\n",
              "      <td>3</td>\n",
              "      <td>13</td>\n",
              "      <td>0</td>\n",
              "      <td>0.0</td>\n",
              "      <td>0</td>\n",
              "      <td>0</td>\n",
              "      <td>0</td>\n",
              "      <td>0</td>\n",
              "      <td>0</td>\n",
              "      <td>0</td>\n",
              "    </tr>\n",
              "    <tr>\n",
              "      <th>5</th>\n",
              "      <td>2004</td>\n",
              "      <td>1</td>\n",
              "      <td>17</td>\n",
              "      <td>6</td>\n",
              "      <td>628.0</td>\n",
              "      <td>630</td>\n",
              "      <td>905.0</td>\n",
              "      <td>915</td>\n",
              "      <td>UA</td>\n",
              "      <td>462</td>\n",
              "      <td>...</td>\n",
              "      <td>5</td>\n",
              "      <td>11</td>\n",
              "      <td>0</td>\n",
              "      <td>0.0</td>\n",
              "      <td>0</td>\n",
              "      <td>0</td>\n",
              "      <td>0</td>\n",
              "      <td>0</td>\n",
              "      <td>0</td>\n",
              "      <td>0</td>\n",
              "    </tr>\n",
              "    <tr>\n",
              "      <th>6</th>\n",
              "      <td>2004</td>\n",
              "      <td>1</td>\n",
              "      <td>19</td>\n",
              "      <td>1</td>\n",
              "      <td>650.0</td>\n",
              "      <td>630</td>\n",
              "      <td>944.0</td>\n",
              "      <td>915</td>\n",
              "      <td>UA</td>\n",
              "      <td>462</td>\n",
              "      <td>...</td>\n",
              "      <td>3</td>\n",
              "      <td>11</td>\n",
              "      <td>0</td>\n",
              "      <td>0.0</td>\n",
              "      <td>0</td>\n",
              "      <td>20</td>\n",
              "      <td>0</td>\n",
              "      <td>9</td>\n",
              "      <td>0</td>\n",
              "      <td>0</td>\n",
              "    </tr>\n",
              "    <tr>\n",
              "      <th>7</th>\n",
              "      <td>2004</td>\n",
              "      <td>1</td>\n",
              "      <td>20</td>\n",
              "      <td>2</td>\n",
              "      <td>627.0</td>\n",
              "      <td>630</td>\n",
              "      <td>904.0</td>\n",
              "      <td>915</td>\n",
              "      <td>UA</td>\n",
              "      <td>462</td>\n",
              "      <td>...</td>\n",
              "      <td>3</td>\n",
              "      <td>10</td>\n",
              "      <td>0</td>\n",
              "      <td>0.0</td>\n",
              "      <td>0</td>\n",
              "      <td>0</td>\n",
              "      <td>0</td>\n",
              "      <td>0</td>\n",
              "      <td>0</td>\n",
              "      <td>0</td>\n",
              "    </tr>\n",
              "    <tr>\n",
              "      <th>8</th>\n",
              "      <td>2004</td>\n",
              "      <td>1</td>\n",
              "      <td>21</td>\n",
              "      <td>3</td>\n",
              "      <td>623.0</td>\n",
              "      <td>630</td>\n",
              "      <td>903.0</td>\n",
              "      <td>915</td>\n",
              "      <td>UA</td>\n",
              "      <td>462</td>\n",
              "      <td>...</td>\n",
              "      <td>16</td>\n",
              "      <td>8</td>\n",
              "      <td>0</td>\n",
              "      <td>0.0</td>\n",
              "      <td>0</td>\n",
              "      <td>0</td>\n",
              "      <td>0</td>\n",
              "      <td>0</td>\n",
              "      <td>0</td>\n",
              "      <td>0</td>\n",
              "    </tr>\n",
              "    <tr>\n",
              "      <th>9</th>\n",
              "      <td>2004</td>\n",
              "      <td>1</td>\n",
              "      <td>22</td>\n",
              "      <td>4</td>\n",
              "      <td>626.0</td>\n",
              "      <td>630</td>\n",
              "      <td>901.0</td>\n",
              "      <td>915</td>\n",
              "      <td>UA</td>\n",
              "      <td>462</td>\n",
              "      <td>...</td>\n",
              "      <td>4</td>\n",
              "      <td>14</td>\n",
              "      <td>0</td>\n",
              "      <td>0.0</td>\n",
              "      <td>0</td>\n",
              "      <td>0</td>\n",
              "      <td>0</td>\n",
              "      <td>0</td>\n",
              "      <td>0</td>\n",
              "      <td>0</td>\n",
              "    </tr>\n",
              "  </tbody>\n",
              "</table>\n",
              "<p>10 rows × 29 columns</p>\n",
              "</div>\n",
              "    <div class=\"colab-df-buttons\">\n",
              "\n",
              "  <div class=\"colab-df-container\">\n",
              "    <button class=\"colab-df-convert\" onclick=\"convertToInteractive('df-fdb5e48a-8be2-4339-b385-1740d822b6ae')\"\n",
              "            title=\"Convert this dataframe to an interactive table.\"\n",
              "            style=\"display:none;\">\n",
              "\n",
              "  <svg xmlns=\"http://www.w3.org/2000/svg\" height=\"24px\" viewBox=\"0 -960 960 960\">\n",
              "    <path d=\"M120-120v-720h720v720H120Zm60-500h600v-160H180v160Zm220 220h160v-160H400v160Zm0 220h160v-160H400v160ZM180-400h160v-160H180v160Zm440 0h160v-160H620v160ZM180-180h160v-160H180v160Zm440 0h160v-160H620v160Z\"/>\n",
              "  </svg>\n",
              "    </button>\n",
              "\n",
              "  <style>\n",
              "    .colab-df-container {\n",
              "      display:flex;\n",
              "      gap: 12px;\n",
              "    }\n",
              "\n",
              "    .colab-df-convert {\n",
              "      background-color: #E8F0FE;\n",
              "      border: none;\n",
              "      border-radius: 50%;\n",
              "      cursor: pointer;\n",
              "      display: none;\n",
              "      fill: #1967D2;\n",
              "      height: 32px;\n",
              "      padding: 0 0 0 0;\n",
              "      width: 32px;\n",
              "    }\n",
              "\n",
              "    .colab-df-convert:hover {\n",
              "      background-color: #E2EBFA;\n",
              "      box-shadow: 0px 1px 2px rgba(60, 64, 67, 0.3), 0px 1px 3px 1px rgba(60, 64, 67, 0.15);\n",
              "      fill: #174EA6;\n",
              "    }\n",
              "\n",
              "    .colab-df-buttons div {\n",
              "      margin-bottom: 4px;\n",
              "    }\n",
              "\n",
              "    [theme=dark] .colab-df-convert {\n",
              "      background-color: #3B4455;\n",
              "      fill: #D2E3FC;\n",
              "    }\n",
              "\n",
              "    [theme=dark] .colab-df-convert:hover {\n",
              "      background-color: #434B5C;\n",
              "      box-shadow: 0px 1px 3px 1px rgba(0, 0, 0, 0.15);\n",
              "      filter: drop-shadow(0px 1px 2px rgba(0, 0, 0, 0.3));\n",
              "      fill: #FFFFFF;\n",
              "    }\n",
              "  </style>\n",
              "\n",
              "    <script>\n",
              "      const buttonEl =\n",
              "        document.querySelector('#df-fdb5e48a-8be2-4339-b385-1740d822b6ae button.colab-df-convert');\n",
              "      buttonEl.style.display =\n",
              "        google.colab.kernel.accessAllowed ? 'block' : 'none';\n",
              "\n",
              "      async function convertToInteractive(key) {\n",
              "        const element = document.querySelector('#df-fdb5e48a-8be2-4339-b385-1740d822b6ae');\n",
              "        const dataTable =\n",
              "          await google.colab.kernel.invokeFunction('convertToInteractive',\n",
              "                                                    [key], {});\n",
              "        if (!dataTable) return;\n",
              "\n",
              "        const docLinkHtml = 'Like what you see? Visit the ' +\n",
              "          '<a target=\"_blank\" href=https://colab.research.google.com/notebooks/data_table.ipynb>data table notebook</a>'\n",
              "          + ' to learn more about interactive tables.';\n",
              "        element.innerHTML = '';\n",
              "        dataTable['output_type'] = 'display_data';\n",
              "        await google.colab.output.renderOutput(dataTable, element);\n",
              "        const docLink = document.createElement('div');\n",
              "        docLink.innerHTML = docLinkHtml;\n",
              "        element.appendChild(docLink);\n",
              "      }\n",
              "    </script>\n",
              "  </div>\n",
              "\n",
              "\n",
              "<div id=\"df-edfc1a21-c605-4e63-b247-1ef5660b24fa\">\n",
              "  <button class=\"colab-df-quickchart\" onclick=\"quickchart('df-edfc1a21-c605-4e63-b247-1ef5660b24fa')\"\n",
              "            title=\"Suggest charts\"\n",
              "            style=\"display:none;\">\n",
              "\n",
              "<svg xmlns=\"http://www.w3.org/2000/svg\" height=\"24px\"viewBox=\"0 0 24 24\"\n",
              "     width=\"24px\">\n",
              "    <g>\n",
              "        <path d=\"M19 3H5c-1.1 0-2 .9-2 2v14c0 1.1.9 2 2 2h14c1.1 0 2-.9 2-2V5c0-1.1-.9-2-2-2zM9 17H7v-7h2v7zm4 0h-2V7h2v10zm4 0h-2v-4h2v4z\"/>\n",
              "    </g>\n",
              "</svg>\n",
              "  </button>\n",
              "\n",
              "<style>\n",
              "  .colab-df-quickchart {\n",
              "      --bg-color: #E8F0FE;\n",
              "      --fill-color: #1967D2;\n",
              "      --hover-bg-color: #E2EBFA;\n",
              "      --hover-fill-color: #174EA6;\n",
              "      --disabled-fill-color: #AAA;\n",
              "      --disabled-bg-color: #DDD;\n",
              "  }\n",
              "\n",
              "  [theme=dark] .colab-df-quickchart {\n",
              "      --bg-color: #3B4455;\n",
              "      --fill-color: #D2E3FC;\n",
              "      --hover-bg-color: #434B5C;\n",
              "      --hover-fill-color: #FFFFFF;\n",
              "      --disabled-bg-color: #3B4455;\n",
              "      --disabled-fill-color: #666;\n",
              "  }\n",
              "\n",
              "  .colab-df-quickchart {\n",
              "    background-color: var(--bg-color);\n",
              "    border: none;\n",
              "    border-radius: 50%;\n",
              "    cursor: pointer;\n",
              "    display: none;\n",
              "    fill: var(--fill-color);\n",
              "    height: 32px;\n",
              "    padding: 0;\n",
              "    width: 32px;\n",
              "  }\n",
              "\n",
              "  .colab-df-quickchart:hover {\n",
              "    background-color: var(--hover-bg-color);\n",
              "    box-shadow: 0 1px 2px rgba(60, 64, 67, 0.3), 0 1px 3px 1px rgba(60, 64, 67, 0.15);\n",
              "    fill: var(--button-hover-fill-color);\n",
              "  }\n",
              "\n",
              "  .colab-df-quickchart-complete:disabled,\n",
              "  .colab-df-quickchart-complete:disabled:hover {\n",
              "    background-color: var(--disabled-bg-color);\n",
              "    fill: var(--disabled-fill-color);\n",
              "    box-shadow: none;\n",
              "  }\n",
              "\n",
              "  .colab-df-spinner {\n",
              "    border: 2px solid var(--fill-color);\n",
              "    border-color: transparent;\n",
              "    border-bottom-color: var(--fill-color);\n",
              "    animation:\n",
              "      spin 1s steps(1) infinite;\n",
              "  }\n",
              "\n",
              "  @keyframes spin {\n",
              "    0% {\n",
              "      border-color: transparent;\n",
              "      border-bottom-color: var(--fill-color);\n",
              "      border-left-color: var(--fill-color);\n",
              "    }\n",
              "    20% {\n",
              "      border-color: transparent;\n",
              "      border-left-color: var(--fill-color);\n",
              "      border-top-color: var(--fill-color);\n",
              "    }\n",
              "    30% {\n",
              "      border-color: transparent;\n",
              "      border-left-color: var(--fill-color);\n",
              "      border-top-color: var(--fill-color);\n",
              "      border-right-color: var(--fill-color);\n",
              "    }\n",
              "    40% {\n",
              "      border-color: transparent;\n",
              "      border-right-color: var(--fill-color);\n",
              "      border-top-color: var(--fill-color);\n",
              "    }\n",
              "    60% {\n",
              "      border-color: transparent;\n",
              "      border-right-color: var(--fill-color);\n",
              "    }\n",
              "    80% {\n",
              "      border-color: transparent;\n",
              "      border-right-color: var(--fill-color);\n",
              "      border-bottom-color: var(--fill-color);\n",
              "    }\n",
              "    90% {\n",
              "      border-color: transparent;\n",
              "      border-bottom-color: var(--fill-color);\n",
              "    }\n",
              "  }\n",
              "</style>\n",
              "\n",
              "  <script>\n",
              "    async function quickchart(key) {\n",
              "      const quickchartButtonEl =\n",
              "        document.querySelector('#' + key + ' button');\n",
              "      quickchartButtonEl.disabled = true;  // To prevent multiple clicks.\n",
              "      quickchartButtonEl.classList.add('colab-df-spinner');\n",
              "      try {\n",
              "        const charts = await google.colab.kernel.invokeFunction(\n",
              "            'suggestCharts', [key], {});\n",
              "      } catch (error) {\n",
              "        console.error('Error during call to suggestCharts:', error);\n",
              "      }\n",
              "      quickchartButtonEl.classList.remove('colab-df-spinner');\n",
              "      quickchartButtonEl.classList.add('colab-df-quickchart-complete');\n",
              "    }\n",
              "    (() => {\n",
              "      let quickchartButtonEl =\n",
              "        document.querySelector('#df-edfc1a21-c605-4e63-b247-1ef5660b24fa button');\n",
              "      quickchartButtonEl.style.display =\n",
              "        google.colab.kernel.accessAllowed ? 'block' : 'none';\n",
              "    })();\n",
              "  </script>\n",
              "</div>\n",
              "    </div>\n",
              "  </div>\n"
            ]
          },
          "metadata": {},
          "execution_count": 15
        }
      ]
    },
    {
      "cell_type": "code",
      "source": [
        "null_counts = df2.isnull().sum()\n",
        "print(null_counts)\n"
      ],
      "metadata": {
        "colab": {
          "base_uri": "https://localhost:8080/"
        },
        "id": "nyqiY-YTqnHa",
        "outputId": "bc1f0cfb-5324-4c76-f8ef-94c7960f2dbe"
      },
      "execution_count": null,
      "outputs": [
        {
          "output_type": "stream",
          "name": "stdout",
          "text": [
            "Year                 0\n",
            "Month                0\n",
            "DayofMonth           0\n",
            "DayOfWeek            0\n",
            "DepTime              0\n",
            "CRSDepTime           0\n",
            "ArrTime              0\n",
            "CRSArrTime           0\n",
            "UniqueCarrier        0\n",
            "FlightNum            0\n",
            "TailNum              0\n",
            "ActualElapsedTime    0\n",
            "CRSElapsedTime       0\n",
            "AirTime              0\n",
            "ArrDelay             0\n",
            "DepDelay             0\n",
            "Origin               0\n",
            "Dest                 0\n",
            "Distance             0\n",
            "TaxiIn               0\n",
            "TaxiOut              0\n",
            "Cancelled            0\n",
            "CancellationCode     0\n",
            "Diverted             0\n",
            "CarrierDelay         0\n",
            "WeatherDelay         0\n",
            "NASDelay             0\n",
            "SecurityDelay        0\n",
            "LateAircraftDelay    0\n",
            "dtype: int64\n"
          ]
        }
      ]
    },
    {
      "cell_type": "code",
      "source": [
        "Row_count = len(df2)\n",
        "Row_count"
      ],
      "metadata": {
        "colab": {
          "base_uri": "https://localhost:8080/"
        },
        "id": "NI54QkcZqvOl",
        "outputId": "f280a71f-50ab-4217-aa52-e774f4ccc855"
      },
      "execution_count": null,
      "outputs": [
        {
          "output_type": "execute_result",
          "data": {
            "text/plain": [
              "7129270"
            ]
          },
          "metadata": {},
          "execution_count": 18
        }
      ]
    },
    {
      "cell_type": "code",
      "source": [
        "row_count2 = len(df)\n",
        "row_count2\n"
      ],
      "metadata": {
        "colab": {
          "base_uri": "https://localhost:8080/"
        },
        "id": "PYtn7HSorKbj",
        "outputId": "df48a3ec-b2d3-4912-c566-5f0834256e86"
      },
      "execution_count": null,
      "outputs": [
        {
          "output_type": "execute_result",
          "data": {
            "text/plain": [
              "7129270"
            ]
          },
          "metadata": {},
          "execution_count": 19
        }
      ]
    },
    {
      "cell_type": "code",
      "source": [
        "flight_data = pd.read_csv('/content/sample_data/2004.csv')\n",
        "count = len(flight_data)\n",
        "count"
      ],
      "metadata": {
        "colab": {
          "base_uri": "https://localhost:8080/"
        },
        "id": "LeDAi8sorgLi",
        "outputId": "897e1530-6efd-4a63-e8f4-27004ab2d70c"
      },
      "execution_count": null,
      "outputs": [
        {
          "output_type": "execute_result",
          "data": {
            "text/plain": [
              "7129270"
            ]
          },
          "metadata": {},
          "execution_count": 21
        }
      ]
    },
    {
      "cell_type": "code",
      "source": [
        "import pandas as pd\n"
      ],
      "metadata": {
        "id": "r6phxzam_RzI"
      },
      "execution_count": null,
      "outputs": []
    },
    {
      "cell_type": "code",
      "source": [
        "null_counts = new_file.isnull().sum()\n",
        "print(null_counts)"
      ],
      "metadata": {
        "colab": {
          "base_uri": "https://localhost:8080/"
        },
        "id": "tUeivLGrw85B",
        "outputId": "2dbc5435-701f-47ab-fb0a-e319b4c7102f"
      },
      "execution_count": null,
      "outputs": [
        {
          "output_type": "stream",
          "name": "stdout",
          "text": [
            "Year                       0\n",
            "Month                      0\n",
            "DayofMonth                 0\n",
            "DayOfWeek                  0\n",
            "DepTime                64442\n",
            "CRSDepTime                 0\n",
            "ArrTime                70096\n",
            "CRSArrTime                 0\n",
            "UniqueCarrier              0\n",
            "FlightNum                  0\n",
            "TailNum                42452\n",
            "ActualElapsedTime      70096\n",
            "CRSElapsedTime           407\n",
            "AirTime                70096\n",
            "ArrDelay               70096\n",
            "DepDelay               64442\n",
            "Origin                     0\n",
            "Dest                       0\n",
            "Distance                   0\n",
            "TaxiIn                 70096\n",
            "TaxiOut                64442\n",
            "Cancelled                  0\n",
            "CancellationCode     2324775\n",
            "Diverted                   0\n",
            "CarrierDelay         1804634\n",
            "WeatherDelay         1804634\n",
            "NASDelay             1804634\n",
            "SecurityDelay        1804634\n",
            "LateAircraftDelay    1804634\n",
            "dtype: int64\n"
          ]
        }
      ]
    },
    {
      "cell_type": "code",
      "source": [
        "new_file['DepTime'] = new_file['DepTime'].fillna(new_file['DepTime'].mean())\n",
        "new_file['ArrTime'] = new_file['ArrTime'].fillna(new_file['ArrTime'].mean())\n",
        "new_file['ActualElapsedTime'] = new_file['ActualElapsedTime'].fillna(new_file['ActualElapsedTime'].mean())\n",
        "new_file['ArrDelay'] = new_file['ArrDelay'].fillna(new_file['ArrDelay'].mean())\n",
        "new_file['DepDelay'] = new_file['DepDelay'].fillna(new_file['DepDelay'].mean())\n",
        "new_file['Distance'] = new_file['Distance'].fillna(new_file['Distance'].mean())"
      ],
      "metadata": {
        "id": "PuGnoJHf_pJt"
      },
      "execution_count": null,
      "outputs": []
    },
    {
      "cell_type": "code",
      "source": [
        "new_file['AirTime'] = new_file['AirTime'].fillna(new_file['AirTime'].mean())"
      ],
      "metadata": {
        "id": "MlwB1P4GBpnV"
      },
      "execution_count": null,
      "outputs": []
    },
    {
      "cell_type": "code",
      "source": [
        "new_file.info()"
      ],
      "metadata": {
        "colab": {
          "base_uri": "https://localhost:8080/"
        },
        "id": "U2Xlr8goB5_o",
        "outputId": "93916243-c91e-4748-8dd1-b15b3e2b69fe"
      },
      "execution_count": null,
      "outputs": [
        {
          "output_type": "stream",
          "name": "stdout",
          "text": [
            "<class 'pandas.core.frame.DataFrame'>\n",
            "RangeIndex: 5351983 entries, 0 to 5351982\n",
            "Data columns (total 29 columns):\n",
            " #   Column             Dtype  \n",
            "---  ------             -----  \n",
            " 0   Year               int64  \n",
            " 1   Month              int64  \n",
            " 2   DayofMonth         int64  \n",
            " 3   DayOfWeek          int64  \n",
            " 4   DepTime            float64\n",
            " 5   CRSDepTime         int64  \n",
            " 6   ArrTime            float64\n",
            " 7   CRSArrTime         int64  \n",
            " 8   UniqueCarrier      object \n",
            " 9   FlightNum          int64  \n",
            " 10  TailNum            object \n",
            " 11  ActualElapsedTime  float64\n",
            " 12  CRSElapsedTime     float64\n",
            " 13  AirTime            float64\n",
            " 14  ArrDelay           float64\n",
            " 15  DepDelay           float64\n",
            " 16  Origin             object \n",
            " 17  Dest               object \n",
            " 18  Distance           int64  \n",
            " 19  TaxiIn             int64  \n",
            " 20  TaxiOut            int64  \n",
            " 21  Cancelled          int64  \n",
            " 22  CancellationCode   float64\n",
            " 23  Diverted           int64  \n",
            " 24  CarrierDelay       float64\n",
            " 25  WeatherDelay       float64\n",
            " 26  NASDelay           float64\n",
            " 27  SecurityDelay      float64\n",
            " 28  LateAircraftDelay  float64\n",
            "dtypes: float64(13), int64(12), object(4)\n",
            "memory usage: 1.2+ GB\n"
          ]
        }
      ]
    },
    {
      "cell_type": "code",
      "source": [
        "new_file['ArrTime'] = new_file['ArrTime'].fillna(new_file['ArrTime'].mean())"
      ],
      "metadata": {
        "id": "ZouCy747BwcB"
      },
      "execution_count": null,
      "outputs": []
    },
    {
      "cell_type": "code",
      "source": [
        "null_counts = new_file.isnull().sum()\n",
        "print(null_counts)"
      ],
      "metadata": {
        "colab": {
          "base_uri": "https://localhost:8080/"
        },
        "id": "u8n4fWDVAIjE",
        "outputId": "f6ec3e7d-34a7-4189-df9d-35b7a6aa9712"
      },
      "execution_count": null,
      "outputs": [
        {
          "output_type": "stream",
          "name": "stdout",
          "text": [
            "Year                       0\n",
            "Month                      0\n",
            "DayofMonth                 0\n",
            "DayOfWeek                  0\n",
            "DepTime                    0\n",
            "CRSDepTime                 0\n",
            "ArrTime                    0\n",
            "CRSArrTime                 0\n",
            "UniqueCarrier              0\n",
            "FlightNum                  0\n",
            "TailNum                42452\n",
            "ActualElapsedTime          0\n",
            "CRSElapsedTime           407\n",
            "AirTime                    0\n",
            "ArrDelay                   0\n",
            "DepDelay                   0\n",
            "Origin                     0\n",
            "Dest                       0\n",
            "Distance                   0\n",
            "TaxiIn                 70096\n",
            "TaxiOut                64442\n",
            "Cancelled                  0\n",
            "CancellationCode     2324775\n",
            "Diverted                   0\n",
            "CarrierDelay         1804634\n",
            "WeatherDelay         1804634\n",
            "NASDelay             1804634\n",
            "SecurityDelay        1804634\n",
            "LateAircraftDelay    1804634\n",
            "dtype: int64\n"
          ]
        }
      ]
    },
    {
      "cell_type": "code",
      "source": [
        "new_file['CRSElapsedTime'] = new_file['CRSElapsedTime'].fillna(new_file['CRSElapsedTime'].mean())\n",
        "new_file['TaxiIn'] = new_file['TaxiIn'].fillna(new_file['TaxiIn'].mean())\n",
        "new_file['TaxiOut'] = new_file['TaxiOut'].fillna(new_file['TaxiOut'].mean())"
      ],
      "metadata": {
        "id": "IpyLXy0_yVF1"
      },
      "execution_count": null,
      "outputs": []
    },
    {
      "cell_type": "code",
      "source": [
        "new_file['CRSElapsedTime'] = new_file['CRSElapsedTime'].fillna(new_file['CRSElapsedTime'].mean())"
      ],
      "metadata": {
        "id": "8A4NJdMdlvHt"
      },
      "execution_count": null,
      "outputs": []
    },
    {
      "cell_type": "code",
      "source": [
        "new_file['Cancelled'] = new_file['Cancelled'].fillna(new_file['Cancelled'].mean())\n",
        "new_file['Diverted'] = new_file['Diverted'].fillna(new_file['Diverted'].mean())"
      ],
      "metadata": {
        "id": "81ifYA1huZFz"
      },
      "execution_count": null,
      "outputs": []
    },
    {
      "cell_type": "code",
      "source": [
        "most_frequent_tailnum = new_file['TailNum'].mode()[0]\n",
        "new_file['TailNum'].fillna(most_frequent_tailnum, inplace=True)\n"
      ],
      "metadata": {
        "id": "K7eqmHSKC6B_"
      },
      "execution_count": null,
      "outputs": []
    },
    {
      "cell_type": "code",
      "source": [
        "new_file.drop('CancellationCode', axis=1, inplace=True)"
      ],
      "metadata": {
        "id": "wgTE9_FRyrkU"
      },
      "execution_count": null,
      "outputs": []
    },
    {
      "cell_type": "code",
      "source": [
        "null_counts = new_file.isnull().sum()\n",
        "print(null_counts)"
      ],
      "metadata": {
        "colab": {
          "base_uri": "https://localhost:8080/"
        },
        "id": "JKQCAN4muigJ",
        "outputId": "2e937618-03a2-4655-de03-360443bd75bd"
      },
      "execution_count": null,
      "outputs": [
        {
          "output_type": "stream",
          "name": "stdout",
          "text": [
            "Year                       0\n",
            "Month                      0\n",
            "DayofMonth                 0\n",
            "DayOfWeek                  0\n",
            "DepTime                    0\n",
            "CRSDepTime                 0\n",
            "ArrTime                    0\n",
            "CRSArrTime                 0\n",
            "UniqueCarrier              0\n",
            "FlightNum                  0\n",
            "TailNum                    0\n",
            "ActualElapsedTime          0\n",
            "CRSElapsedTime             0\n",
            "AirTime                    0\n",
            "ArrDelay                   0\n",
            "DepDelay                   0\n",
            "Origin                     0\n",
            "Dest                       0\n",
            "Distance                   0\n",
            "TaxiIn                     0\n",
            "TaxiOut                    0\n",
            "Cancelled                  0\n",
            "Diverted                   0\n",
            "CarrierDelay         1804634\n",
            "WeatherDelay         1804634\n",
            "NASDelay             1804634\n",
            "SecurityDelay        1804634\n",
            "LateAircraftDelay    1804634\n",
            "dtype: int64\n"
          ]
        }
      ]
    },
    {
      "cell_type": "code",
      "source": [
        "null_counts = new_file.isnull().sum()\n",
        "print(null_counts)"
      ],
      "metadata": {
        "colab": {
          "base_uri": "https://localhost:8080/"
        },
        "id": "FY__rVNLyudR",
        "outputId": "d0eccfba-619f-46a9-dc68-48ac5e011f99"
      },
      "execution_count": null,
      "outputs": [
        {
          "output_type": "stream",
          "name": "stdout",
          "text": [
            "Year                       0\n",
            "Month                      0\n",
            "DayofMonth                 0\n",
            "DayOfWeek                  0\n",
            "DepTime                    0\n",
            "CRSDepTime                 0\n",
            "ArrTime                    0\n",
            "CRSArrTime                 0\n",
            "UniqueCarrier              0\n",
            "FlightNum                  0\n",
            "TailNum              5092157\n",
            "ActualElapsedTime          0\n",
            "CRSElapsedTime             0\n",
            "AirTime              5092157\n",
            "ArrDelay                   0\n",
            "DepDelay                   0\n",
            "Origin                     0\n",
            "Dest                       0\n",
            "Distance                   0\n",
            "TaxiIn               5092157\n",
            "TaxiOut              5092157\n",
            "Cancelled                  0\n",
            "Diverted                   0\n",
            "CarrierDelay         5092157\n",
            "WeatherDelay         5092157\n",
            "NASDelay             5092157\n",
            "SecurityDelay        5092157\n",
            "LateAircraftDelay    5092157\n",
            "dtype: int64\n"
          ]
        }
      ]
    },
    {
      "cell_type": "code",
      "source": [
        "\n",
        "sample_size = 30000\n",
        "random_sample = new_file.sample(n=sample_size, random_state=42)\n"
      ],
      "metadata": {
        "id": "dnp3cWfxr6Ah"
      },
      "execution_count": null,
      "outputs": []
    },
    {
      "cell_type": "code",
      "source": [
        "\n",
        "random_sample['Delayed'] = random_sample.apply(lambda row: 'N' if row['ArrDelay'] <= 0 and row['DepDelay'] <= 0 else 'Y', axis=1)\n",
        "random_sample.head()"
      ],
      "metadata": {
        "colab": {
          "base_uri": "https://localhost:8080/",
          "height": 255
        },
        "id": "dZfMU4ccsGVw",
        "outputId": "82623afd-20d1-40a0-89bc-105d25bd93bb"
      },
      "execution_count": null,
      "outputs": [
        {
          "output_type": "execute_result",
          "data": {
            "text/plain": [
              "         Year  Month  DayofMonth  DayOfWeek  DepTime  CRSDepTime  ArrTime  \\\n",
              "990131   2008      2          17          7    713.0         715    910.0   \n",
              "1155962  2008      2          20          3   1428.0        1305   1941.0   \n",
              "86972    2008      1          29          2   1025.0        1015   1141.0   \n",
              "283457   2008      1          22          2   1626.0        1630   1747.0   \n",
              "2268179  2008      4          24          4   1800.0        1800   2051.0   \n",
              "\n",
              "         CRSArrTime UniqueCarrier  FlightNum  ... TaxiIn  TaxiOut  Cancelled  \\\n",
              "990131          825            MQ       4223  ...   19.0     26.0          0   \n",
              "1155962        1808            CO       1588  ...    8.0     34.0          0   \n",
              "86972          1135            WN       2300  ...    4.0     16.0          0   \n",
              "283457         1807            US        162  ...    5.0     11.0          0   \n",
              "2268179        2025            AA        411  ...    5.0     31.0          0   \n",
              "\n",
              "         Diverted  CarrierDelay  WeatherDelay NASDelay SecurityDelay  \\\n",
              "990131          0           0.0           0.0     45.0           0.0   \n",
              "1155962         0           0.0           0.0     19.0           0.0   \n",
              "86972           0           NaN           NaN      NaN           NaN   \n",
              "283457          0           NaN           NaN      NaN           NaN   \n",
              "2268179         0           0.0           0.0     26.0           0.0   \n",
              "\n",
              "         LateAircraftDelay  Delayed  \n",
              "990131                 0.0        Y  \n",
              "1155962               74.0        Y  \n",
              "86972                  NaN        Y  \n",
              "283457                 NaN        N  \n",
              "2268179                0.0        Y  \n",
              "\n",
              "[5 rows x 29 columns]"
            ],
            "text/html": [
              "\n",
              "  <div id=\"df-e791de06-ad28-4e7b-99db-9d65957d6b99\" class=\"colab-df-container\">\n",
              "    <div>\n",
              "<style scoped>\n",
              "    .dataframe tbody tr th:only-of-type {\n",
              "        vertical-align: middle;\n",
              "    }\n",
              "\n",
              "    .dataframe tbody tr th {\n",
              "        vertical-align: top;\n",
              "    }\n",
              "\n",
              "    .dataframe thead th {\n",
              "        text-align: right;\n",
              "    }\n",
              "</style>\n",
              "<table border=\"1\" class=\"dataframe\">\n",
              "  <thead>\n",
              "    <tr style=\"text-align: right;\">\n",
              "      <th></th>\n",
              "      <th>Year</th>\n",
              "      <th>Month</th>\n",
              "      <th>DayofMonth</th>\n",
              "      <th>DayOfWeek</th>\n",
              "      <th>DepTime</th>\n",
              "      <th>CRSDepTime</th>\n",
              "      <th>ArrTime</th>\n",
              "      <th>CRSArrTime</th>\n",
              "      <th>UniqueCarrier</th>\n",
              "      <th>FlightNum</th>\n",
              "      <th>...</th>\n",
              "      <th>TaxiIn</th>\n",
              "      <th>TaxiOut</th>\n",
              "      <th>Cancelled</th>\n",
              "      <th>Diverted</th>\n",
              "      <th>CarrierDelay</th>\n",
              "      <th>WeatherDelay</th>\n",
              "      <th>NASDelay</th>\n",
              "      <th>SecurityDelay</th>\n",
              "      <th>LateAircraftDelay</th>\n",
              "      <th>Delayed</th>\n",
              "    </tr>\n",
              "  </thead>\n",
              "  <tbody>\n",
              "    <tr>\n",
              "      <th>990131</th>\n",
              "      <td>2008</td>\n",
              "      <td>2</td>\n",
              "      <td>17</td>\n",
              "      <td>7</td>\n",
              "      <td>713.0</td>\n",
              "      <td>715</td>\n",
              "      <td>910.0</td>\n",
              "      <td>825</td>\n",
              "      <td>MQ</td>\n",
              "      <td>4223</td>\n",
              "      <td>...</td>\n",
              "      <td>19.0</td>\n",
              "      <td>26.0</td>\n",
              "      <td>0</td>\n",
              "      <td>0</td>\n",
              "      <td>0.0</td>\n",
              "      <td>0.0</td>\n",
              "      <td>45.0</td>\n",
              "      <td>0.0</td>\n",
              "      <td>0.0</td>\n",
              "      <td>Y</td>\n",
              "    </tr>\n",
              "    <tr>\n",
              "      <th>1155962</th>\n",
              "      <td>2008</td>\n",
              "      <td>2</td>\n",
              "      <td>20</td>\n",
              "      <td>3</td>\n",
              "      <td>1428.0</td>\n",
              "      <td>1305</td>\n",
              "      <td>1941.0</td>\n",
              "      <td>1808</td>\n",
              "      <td>CO</td>\n",
              "      <td>1588</td>\n",
              "      <td>...</td>\n",
              "      <td>8.0</td>\n",
              "      <td>34.0</td>\n",
              "      <td>0</td>\n",
              "      <td>0</td>\n",
              "      <td>0.0</td>\n",
              "      <td>0.0</td>\n",
              "      <td>19.0</td>\n",
              "      <td>0.0</td>\n",
              "      <td>74.0</td>\n",
              "      <td>Y</td>\n",
              "    </tr>\n",
              "    <tr>\n",
              "      <th>86972</th>\n",
              "      <td>2008</td>\n",
              "      <td>1</td>\n",
              "      <td>29</td>\n",
              "      <td>2</td>\n",
              "      <td>1025.0</td>\n",
              "      <td>1015</td>\n",
              "      <td>1141.0</td>\n",
              "      <td>1135</td>\n",
              "      <td>WN</td>\n",
              "      <td>2300</td>\n",
              "      <td>...</td>\n",
              "      <td>4.0</td>\n",
              "      <td>16.0</td>\n",
              "      <td>0</td>\n",
              "      <td>0</td>\n",
              "      <td>NaN</td>\n",
              "      <td>NaN</td>\n",
              "      <td>NaN</td>\n",
              "      <td>NaN</td>\n",
              "      <td>NaN</td>\n",
              "      <td>Y</td>\n",
              "    </tr>\n",
              "    <tr>\n",
              "      <th>283457</th>\n",
              "      <td>2008</td>\n",
              "      <td>1</td>\n",
              "      <td>22</td>\n",
              "      <td>2</td>\n",
              "      <td>1626.0</td>\n",
              "      <td>1630</td>\n",
              "      <td>1747.0</td>\n",
              "      <td>1807</td>\n",
              "      <td>US</td>\n",
              "      <td>162</td>\n",
              "      <td>...</td>\n",
              "      <td>5.0</td>\n",
              "      <td>11.0</td>\n",
              "      <td>0</td>\n",
              "      <td>0</td>\n",
              "      <td>NaN</td>\n",
              "      <td>NaN</td>\n",
              "      <td>NaN</td>\n",
              "      <td>NaN</td>\n",
              "      <td>NaN</td>\n",
              "      <td>N</td>\n",
              "    </tr>\n",
              "    <tr>\n",
              "      <th>2268179</th>\n",
              "      <td>2008</td>\n",
              "      <td>4</td>\n",
              "      <td>24</td>\n",
              "      <td>4</td>\n",
              "      <td>1800.0</td>\n",
              "      <td>1800</td>\n",
              "      <td>2051.0</td>\n",
              "      <td>2025</td>\n",
              "      <td>AA</td>\n",
              "      <td>411</td>\n",
              "      <td>...</td>\n",
              "      <td>5.0</td>\n",
              "      <td>31.0</td>\n",
              "      <td>0</td>\n",
              "      <td>0</td>\n",
              "      <td>0.0</td>\n",
              "      <td>0.0</td>\n",
              "      <td>26.0</td>\n",
              "      <td>0.0</td>\n",
              "      <td>0.0</td>\n",
              "      <td>Y</td>\n",
              "    </tr>\n",
              "  </tbody>\n",
              "</table>\n",
              "<p>5 rows × 29 columns</p>\n",
              "</div>\n",
              "    <div class=\"colab-df-buttons\">\n",
              "\n",
              "  <div class=\"colab-df-container\">\n",
              "    <button class=\"colab-df-convert\" onclick=\"convertToInteractive('df-e791de06-ad28-4e7b-99db-9d65957d6b99')\"\n",
              "            title=\"Convert this dataframe to an interactive table.\"\n",
              "            style=\"display:none;\">\n",
              "\n",
              "  <svg xmlns=\"http://www.w3.org/2000/svg\" height=\"24px\" viewBox=\"0 -960 960 960\">\n",
              "    <path d=\"M120-120v-720h720v720H120Zm60-500h600v-160H180v160Zm220 220h160v-160H400v160Zm0 220h160v-160H400v160ZM180-400h160v-160H180v160Zm440 0h160v-160H620v160ZM180-180h160v-160H180v160Zm440 0h160v-160H620v160Z\"/>\n",
              "  </svg>\n",
              "    </button>\n",
              "\n",
              "  <style>\n",
              "    .colab-df-container {\n",
              "      display:flex;\n",
              "      gap: 12px;\n",
              "    }\n",
              "\n",
              "    .colab-df-convert {\n",
              "      background-color: #E8F0FE;\n",
              "      border: none;\n",
              "      border-radius: 50%;\n",
              "      cursor: pointer;\n",
              "      display: none;\n",
              "      fill: #1967D2;\n",
              "      height: 32px;\n",
              "      padding: 0 0 0 0;\n",
              "      width: 32px;\n",
              "    }\n",
              "\n",
              "    .colab-df-convert:hover {\n",
              "      background-color: #E2EBFA;\n",
              "      box-shadow: 0px 1px 2px rgba(60, 64, 67, 0.3), 0px 1px 3px 1px rgba(60, 64, 67, 0.15);\n",
              "      fill: #174EA6;\n",
              "    }\n",
              "\n",
              "    .colab-df-buttons div {\n",
              "      margin-bottom: 4px;\n",
              "    }\n",
              "\n",
              "    [theme=dark] .colab-df-convert {\n",
              "      background-color: #3B4455;\n",
              "      fill: #D2E3FC;\n",
              "    }\n",
              "\n",
              "    [theme=dark] .colab-df-convert:hover {\n",
              "      background-color: #434B5C;\n",
              "      box-shadow: 0px 1px 3px 1px rgba(0, 0, 0, 0.15);\n",
              "      filter: drop-shadow(0px 1px 2px rgba(0, 0, 0, 0.3));\n",
              "      fill: #FFFFFF;\n",
              "    }\n",
              "  </style>\n",
              "\n",
              "    <script>\n",
              "      const buttonEl =\n",
              "        document.querySelector('#df-e791de06-ad28-4e7b-99db-9d65957d6b99 button.colab-df-convert');\n",
              "      buttonEl.style.display =\n",
              "        google.colab.kernel.accessAllowed ? 'block' : 'none';\n",
              "\n",
              "      async function convertToInteractive(key) {\n",
              "        const element = document.querySelector('#df-e791de06-ad28-4e7b-99db-9d65957d6b99');\n",
              "        const dataTable =\n",
              "          await google.colab.kernel.invokeFunction('convertToInteractive',\n",
              "                                                    [key], {});\n",
              "        if (!dataTable) return;\n",
              "\n",
              "        const docLinkHtml = 'Like what you see? Visit the ' +\n",
              "          '<a target=\"_blank\" href=https://colab.research.google.com/notebooks/data_table.ipynb>data table notebook</a>'\n",
              "          + ' to learn more about interactive tables.';\n",
              "        element.innerHTML = '';\n",
              "        dataTable['output_type'] = 'display_data';\n",
              "        await google.colab.output.renderOutput(dataTable, element);\n",
              "        const docLink = document.createElement('div');\n",
              "        docLink.innerHTML = docLinkHtml;\n",
              "        element.appendChild(docLink);\n",
              "      }\n",
              "    </script>\n",
              "  </div>\n",
              "\n",
              "\n",
              "<div id=\"df-7ca10146-36fe-4093-abba-7b4cbc1905b8\">\n",
              "  <button class=\"colab-df-quickchart\" onclick=\"quickchart('df-7ca10146-36fe-4093-abba-7b4cbc1905b8')\"\n",
              "            title=\"Suggest charts\"\n",
              "            style=\"display:none;\">\n",
              "\n",
              "<svg xmlns=\"http://www.w3.org/2000/svg\" height=\"24px\"viewBox=\"0 0 24 24\"\n",
              "     width=\"24px\">\n",
              "    <g>\n",
              "        <path d=\"M19 3H5c-1.1 0-2 .9-2 2v14c0 1.1.9 2 2 2h14c1.1 0 2-.9 2-2V5c0-1.1-.9-2-2-2zM9 17H7v-7h2v7zm4 0h-2V7h2v10zm4 0h-2v-4h2v4z\"/>\n",
              "    </g>\n",
              "</svg>\n",
              "  </button>\n",
              "\n",
              "<style>\n",
              "  .colab-df-quickchart {\n",
              "      --bg-color: #E8F0FE;\n",
              "      --fill-color: #1967D2;\n",
              "      --hover-bg-color: #E2EBFA;\n",
              "      --hover-fill-color: #174EA6;\n",
              "      --disabled-fill-color: #AAA;\n",
              "      --disabled-bg-color: #DDD;\n",
              "  }\n",
              "\n",
              "  [theme=dark] .colab-df-quickchart {\n",
              "      --bg-color: #3B4455;\n",
              "      --fill-color: #D2E3FC;\n",
              "      --hover-bg-color: #434B5C;\n",
              "      --hover-fill-color: #FFFFFF;\n",
              "      --disabled-bg-color: #3B4455;\n",
              "      --disabled-fill-color: #666;\n",
              "  }\n",
              "\n",
              "  .colab-df-quickchart {\n",
              "    background-color: var(--bg-color);\n",
              "    border: none;\n",
              "    border-radius: 50%;\n",
              "    cursor: pointer;\n",
              "    display: none;\n",
              "    fill: var(--fill-color);\n",
              "    height: 32px;\n",
              "    padding: 0;\n",
              "    width: 32px;\n",
              "  }\n",
              "\n",
              "  .colab-df-quickchart:hover {\n",
              "    background-color: var(--hover-bg-color);\n",
              "    box-shadow: 0 1px 2px rgba(60, 64, 67, 0.3), 0 1px 3px 1px rgba(60, 64, 67, 0.15);\n",
              "    fill: var(--button-hover-fill-color);\n",
              "  }\n",
              "\n",
              "  .colab-df-quickchart-complete:disabled,\n",
              "  .colab-df-quickchart-complete:disabled:hover {\n",
              "    background-color: var(--disabled-bg-color);\n",
              "    fill: var(--disabled-fill-color);\n",
              "    box-shadow: none;\n",
              "  }\n",
              "\n",
              "  .colab-df-spinner {\n",
              "    border: 2px solid var(--fill-color);\n",
              "    border-color: transparent;\n",
              "    border-bottom-color: var(--fill-color);\n",
              "    animation:\n",
              "      spin 1s steps(1) infinite;\n",
              "  }\n",
              "\n",
              "  @keyframes spin {\n",
              "    0% {\n",
              "      border-color: transparent;\n",
              "      border-bottom-color: var(--fill-color);\n",
              "      border-left-color: var(--fill-color);\n",
              "    }\n",
              "    20% {\n",
              "      border-color: transparent;\n",
              "      border-left-color: var(--fill-color);\n",
              "      border-top-color: var(--fill-color);\n",
              "    }\n",
              "    30% {\n",
              "      border-color: transparent;\n",
              "      border-left-color: var(--fill-color);\n",
              "      border-top-color: var(--fill-color);\n",
              "      border-right-color: var(--fill-color);\n",
              "    }\n",
              "    40% {\n",
              "      border-color: transparent;\n",
              "      border-right-color: var(--fill-color);\n",
              "      border-top-color: var(--fill-color);\n",
              "    }\n",
              "    60% {\n",
              "      border-color: transparent;\n",
              "      border-right-color: var(--fill-color);\n",
              "    }\n",
              "    80% {\n",
              "      border-color: transparent;\n",
              "      border-right-color: var(--fill-color);\n",
              "      border-bottom-color: var(--fill-color);\n",
              "    }\n",
              "    90% {\n",
              "      border-color: transparent;\n",
              "      border-bottom-color: var(--fill-color);\n",
              "    }\n",
              "  }\n",
              "</style>\n",
              "\n",
              "  <script>\n",
              "    async function quickchart(key) {\n",
              "      const quickchartButtonEl =\n",
              "        document.querySelector('#' + key + ' button');\n",
              "      quickchartButtonEl.disabled = true;  // To prevent multiple clicks.\n",
              "      quickchartButtonEl.classList.add('colab-df-spinner');\n",
              "      try {\n",
              "        const charts = await google.colab.kernel.invokeFunction(\n",
              "            'suggestCharts', [key], {});\n",
              "      } catch (error) {\n",
              "        console.error('Error during call to suggestCharts:', error);\n",
              "      }\n",
              "      quickchartButtonEl.classList.remove('colab-df-spinner');\n",
              "      quickchartButtonEl.classList.add('colab-df-quickchart-complete');\n",
              "    }\n",
              "    (() => {\n",
              "      let quickchartButtonEl =\n",
              "        document.querySelector('#df-7ca10146-36fe-4093-abba-7b4cbc1905b8 button');\n",
              "      quickchartButtonEl.style.display =\n",
              "        google.colab.kernel.accessAllowed ? 'block' : 'none';\n",
              "    })();\n",
              "  </script>\n",
              "</div>\n",
              "\n",
              "    </div>\n",
              "  </div>\n"
            ]
          },
          "metadata": {},
          "execution_count": 52
        }
      ]
    },
    {
      "cell_type": "code",
      "source": [
        "count_row1 = len(random_sample)\n",
        "count_row1"
      ],
      "metadata": {
        "colab": {
          "base_uri": "https://localhost:8080/"
        },
        "id": "u6nwUj4ttUh3",
        "outputId": "9625c0e9-9a28-4fff-9470-5ea0e741ee99"
      },
      "execution_count": null,
      "outputs": [
        {
          "output_type": "execute_result",
          "data": {
            "text/plain": [
              "30000"
            ]
          },
          "metadata": {},
          "execution_count": 53
        }
      ]
    },
    {
      "cell_type": "code",
      "source": [
        "random_sample.to_csv('Bharat_1996.csv', index = False)"
      ],
      "metadata": {
        "id": "g86MqA1sEZPj"
      },
      "execution_count": null,
      "outputs": []
    },
    {
      "cell_type": "code",
      "source": [
        "import pandas as pd\n",
        "\n",
        "files = ['/content/sample_data/Pratik_2004.csv', '/content/Bharat_1996.csv', '/content/sample_data/1988_30,000.csv', '/content/sample_data/2000_30,000.csv', '/content/karan_1996.csv', '/content/sample_data/1992_30,000.csv']\n",
        "\n",
        "dfs = []\n",
        "\n",
        "for file in files:\n",
        "    df = pd.read_csv(file)\n",
        "    dfs.append(df)\n",
        "\n",
        "concatenated_data = pd.concat(dfs, ignore_index=True)\n",
        "\n",
        "concatenated_data.to_csv('Everyone_BigData_Final.csv')\n",
        "\n"
      ],
      "metadata": {
        "id": "3TPMt4xrn7Z5"
      },
      "execution_count": null,
      "outputs": []
    },
    {
      "cell_type": "code",
      "source": [
        "import pandas as pd\n",
        "everyone_bigData = pd.read_csv('/content/sample_data/Everyone_BigData_Final.csv')"
      ],
      "metadata": {
        "colab": {
          "base_uri": "https://localhost:8080/"
        },
        "id": "-3aRVgbFuOl0",
        "outputId": "cd26c53c-7e80-414e-b8f2-77df3d354a34"
      },
      "execution_count": null,
      "outputs": [
        {
          "output_type": "stream",
          "name": "stderr",
          "text": [
            "<ipython-input-57-536328aa3ddf>:2: DtypeWarning: Columns (11) have mixed types. Specify dtype option on import or set low_memory=False.\n",
            "  everyone_bigData = pd.read_csv('/content/sample_data/Everyone_BigData_Final.csv')\n"
          ]
        }
      ]
    },
    {
      "cell_type": "code",
      "source": [
        "null_count = everyone_bigData.isnull().sum()\n",
        "\n",
        "print(null_count)"
      ],
      "metadata": {
        "colab": {
          "base_uri": "https://localhost:8080/"
        },
        "id": "OBFGGg6S0SZo",
        "outputId": "5a5a317b-f075-4267-9888-e682f2b8e223"
      },
      "execution_count": null,
      "outputs": [
        {
          "output_type": "stream",
          "name": "stdout",
          "text": [
            "Unnamed: 0                0\n",
            "Year                      0\n",
            "Month                     0\n",
            "DayofMonth                0\n",
            "DayOfWeek                 0\n",
            "DepTime                   0\n",
            "CRSDepTime                0\n",
            "ArrTime                   0\n",
            "CRSArrTime                0\n",
            "UniqueCarrier             0\n",
            "FlightNum                 0\n",
            "TailNum               60000\n",
            "ActualElapsedTime         0\n",
            "CRSElapsedTime            0\n",
            "AirTime               60000\n",
            "ArrDelay                  0\n",
            "DepDelay                  0\n",
            "Origin                    0\n",
            "Dest                      0\n",
            "Distance                  0\n",
            "TaxiIn                60000\n",
            "TaxiOut               60000\n",
            "Cancelled                 0\n",
            "Diverted                  0\n",
            "CarrierDelay         142599\n",
            "WeatherDelay         142599\n",
            "NASDelay             142599\n",
            "SecurityDelay        142599\n",
            "LateAircraftDelay    142599\n",
            "Delayed                   0\n",
            "dtype: int64\n"
          ]
        }
      ]
    },
    {
      "cell_type": "code",
      "source": [
        "columns_to_remove = ['CarrierDelay', 'WeatherDelay', 'NASDelay', 'SecurityDelay', 'LateAircraftDelay']\n",
        "\n",
        "everyone_bigData = everyone_bigData.drop(columns=columns_to_remove)\n"
      ],
      "metadata": {
        "id": "237warJx1GOp"
      },
      "execution_count": null,
      "outputs": []
    },
    {
      "cell_type": "code",
      "source": [
        "null_count = everyone_bigData.isnull().sum()\n",
        "\n",
        "print(null_count)"
      ],
      "metadata": {
        "colab": {
          "base_uri": "https://localhost:8080/"
        },
        "id": "8-zqVgx11LRF",
        "outputId": "e72a5219-2d8d-49c1-fdb5-4ea2602b13f6"
      },
      "execution_count": null,
      "outputs": [
        {
          "output_type": "stream",
          "name": "stdout",
          "text": [
            "Unnamed: 0               0\n",
            "Year                     0\n",
            "Month                    0\n",
            "DayofMonth               0\n",
            "DayOfWeek                0\n",
            "DepTime                  0\n",
            "CRSDepTime               0\n",
            "ArrTime                  0\n",
            "CRSArrTime               0\n",
            "UniqueCarrier            0\n",
            "FlightNum                0\n",
            "TailNum              60000\n",
            "ActualElapsedTime        0\n",
            "CRSElapsedTime           0\n",
            "AirTime              60000\n",
            "ArrDelay                 0\n",
            "DepDelay                 0\n",
            "Origin                   0\n",
            "Dest                     0\n",
            "Distance                 0\n",
            "TaxiIn               60000\n",
            "TaxiOut              60000\n",
            "Cancelled                0\n",
            "Diverted                 0\n",
            "Delayed                  0\n",
            "dtype: int64\n"
          ]
        }
      ]
    },
    {
      "cell_type": "code",
      "source": [
        "everyone_bigData['AirTime'] = everyone_bigData['AirTime'].fillna(everyone_bigData['AirTime'].mean())\n",
        "everyone_bigData['TaxiIn'] = everyone_bigData['TaxiIn'].fillna(everyone_bigData['TaxiIn'].mean())\n",
        "everyone_bigData['TaxiOut'] = everyone_bigData['TaxiOut'].fillna(everyone_bigData['TaxiOut'].mean())"
      ],
      "metadata": {
        "id": "8m44K5C11lIu"
      },
      "execution_count": null,
      "outputs": []
    },
    {
      "cell_type": "code",
      "source": [
        "null_count = everyone_bigData.isnull().sum()\n",
        "\n",
        "print(null_count)"
      ],
      "metadata": {
        "colab": {
          "base_uri": "https://localhost:8080/"
        },
        "id": "a6IuN0S82HOK",
        "outputId": "a41015ec-ea7e-4cb7-8f16-8a842c4df30b"
      },
      "execution_count": null,
      "outputs": [
        {
          "output_type": "stream",
          "name": "stdout",
          "text": [
            "Unnamed: 0               0\n",
            "Year                     0\n",
            "Month                    0\n",
            "DayofMonth               0\n",
            "DayOfWeek                0\n",
            "DepTime                  0\n",
            "CRSDepTime               0\n",
            "ArrTime                  0\n",
            "CRSArrTime               0\n",
            "UniqueCarrier            0\n",
            "FlightNum                0\n",
            "TailNum              60000\n",
            "ActualElapsedTime        0\n",
            "CRSElapsedTime           0\n",
            "AirTime                  0\n",
            "ArrDelay                 0\n",
            "DepDelay                 0\n",
            "Origin                   0\n",
            "Dest                     0\n",
            "Distance                 0\n",
            "TaxiIn                   0\n",
            "TaxiOut                  0\n",
            "Cancelled                0\n",
            "Diverted                 0\n",
            "Delayed                  0\n",
            "dtype: int64\n"
          ]
        }
      ]
    },
    {
      "cell_type": "code",
      "source": [
        "most_frequent_tailnum1 = everyone_bigData['TailNum'].mode()[0]\n",
        "everyone_bigData['TailNum'].fillna(most_frequent_tailnum1, inplace=True)"
      ],
      "metadata": {
        "id": "YnaTMjVR2QKG"
      },
      "execution_count": null,
      "outputs": []
    },
    {
      "cell_type": "code",
      "source": [
        "null_count = everyone_bigData.isnull().sum()\n",
        "\n",
        "print(null_count)"
      ],
      "metadata": {
        "colab": {
          "base_uri": "https://localhost:8080/"
        },
        "id": "HmBkraeb2Xuj",
        "outputId": "efad48a7-6aee-43e3-a4fa-ba08854d8b6f"
      },
      "execution_count": null,
      "outputs": [
        {
          "output_type": "stream",
          "name": "stdout",
          "text": [
            "Unnamed: 0           0\n",
            "Year                 0\n",
            "Month                0\n",
            "DayofMonth           0\n",
            "DayOfWeek            0\n",
            "DepTime              0\n",
            "CRSDepTime           0\n",
            "ArrTime              0\n",
            "CRSArrTime           0\n",
            "UniqueCarrier        0\n",
            "FlightNum            0\n",
            "TailNum              0\n",
            "ActualElapsedTime    0\n",
            "CRSElapsedTime       0\n",
            "AirTime              0\n",
            "ArrDelay             0\n",
            "DepDelay             0\n",
            "Origin               0\n",
            "Dest                 0\n",
            "Distance             0\n",
            "TaxiIn               0\n",
            "TaxiOut              0\n",
            "Cancelled            0\n",
            "Diverted             0\n",
            "Delayed              0\n",
            "dtype: int64\n"
          ]
        }
      ]
    },
    {
      "cell_type": "code",
      "source": [
        "everyone_bigData['ArrDelay'] = everyone_bigData['ArrDelay'].astype(int)\n",
        "everyone_bigData['DepDelay'] = everyone_bigData['DepDelay'].astype(int)\n"
      ],
      "metadata": {
        "id": "8lpsaY1q2_jc"
      },
      "execution_count": null,
      "outputs": []
    },
    {
      "cell_type": "code",
      "source": [
        "everyone_bigData.info()"
      ],
      "metadata": {
        "colab": {
          "base_uri": "https://localhost:8080/"
        },
        "id": "ZuuK_uIK3EtF",
        "outputId": "068d6009-cc30-4429-b146-70fcbfca83d0"
      },
      "execution_count": null,
      "outputs": [
        {
          "output_type": "stream",
          "name": "stdout",
          "text": [
            "<class 'pandas.core.frame.DataFrame'>\n",
            "RangeIndex: 180000 entries, 0 to 179999\n",
            "Data columns (total 25 columns):\n",
            " #   Column             Non-Null Count   Dtype  \n",
            "---  ------             --------------   -----  \n",
            " 0   Unnamed: 0         180000 non-null  int64  \n",
            " 1   Year               180000 non-null  int64  \n",
            " 2   Month              180000 non-null  int64  \n",
            " 3   DayofMonth         180000 non-null  int64  \n",
            " 4   DayOfWeek          180000 non-null  int64  \n",
            " 5   DepTime            180000 non-null  float64\n",
            " 6   CRSDepTime         180000 non-null  int64  \n",
            " 7   ArrTime            180000 non-null  float64\n",
            " 8   CRSArrTime         180000 non-null  int64  \n",
            " 9   UniqueCarrier      180000 non-null  object \n",
            " 10  FlightNum          180000 non-null  int64  \n",
            " 11  TailNum            180000 non-null  object \n",
            " 12  ActualElapsedTime  180000 non-null  float64\n",
            " 13  CRSElapsedTime     180000 non-null  float64\n",
            " 14  AirTime            180000 non-null  float64\n",
            " 15  ArrDelay           180000 non-null  int64  \n",
            " 16  DepDelay           180000 non-null  int64  \n",
            " 17  Origin             180000 non-null  object \n",
            " 18  Dest               180000 non-null  object \n",
            " 19  Distance           180000 non-null  float64\n",
            " 20  TaxiIn             180000 non-null  float64\n",
            " 21  TaxiOut            180000 non-null  float64\n",
            " 22  Cancelled          180000 non-null  int64  \n",
            " 23  Diverted           180000 non-null  int64  \n",
            " 24  Delayed            180000 non-null  object \n",
            "dtypes: float64(8), int64(12), object(5)\n",
            "memory usage: 34.3+ MB\n"
          ]
        }
      ]
    },
    {
      "cell_type": "code",
      "source": [
        "everyone_bigData.to_csv('Everyone_Final.csv')"
      ],
      "metadata": {
        "id": "cUSdsIN-2ZBu"
      },
      "execution_count": null,
      "outputs": []
    }
  ]
}